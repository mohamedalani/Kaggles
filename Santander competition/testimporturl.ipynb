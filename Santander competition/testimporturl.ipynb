import urllib.request

wp = urllib.request.urlopen("http://winterolympicsmedals.com/medals.csv")

pw = wp.read()

print(pw)
